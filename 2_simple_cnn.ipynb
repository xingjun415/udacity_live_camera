{
 "cells": [
  {
   "cell_type": "code",
   "execution_count": 1,
   "metadata": {
    "collapsed": true
   },
   "outputs": [],
   "source": [
    "import numpy as np\n",
    "import os\n",
    "import pickle\n",
    "import matplotlib.pyplot as plt\n",
    "import tensorflow as tf"
   ]
  },
  {
   "cell_type": "code",
   "execution_count": 2,
   "metadata": {
    "collapsed": false
   },
   "outputs": [
    {
     "data": {
      "text/plain": [
       "['train_pickle.pickle', 'test_pickle.pickle']"
      ]
     },
     "execution_count": 2,
     "metadata": {},
     "output_type": "execute_result"
    }
   ],
   "source": [
    "os.listdir(\"./pickle\")"
   ]
  },
  {
   "cell_type": "code",
   "execution_count": 3,
   "metadata": {
    "collapsed": false
   },
   "outputs": [
    {
     "name": "stdout",
     "output_type": "stream",
     "text": [
      "train dataset shape :  (33402, 64, 64)\n",
      "train_labels.shape :  (33402,)\n"
     ]
    }
   ],
   "source": [
    "def get_dataset_labels(filename):\n",
    "    def get_pickle(filename):\n",
    "        with open(filename, \"rb\") as file:\n",
    "            return pickle.load(file)\n",
    "    pickles = get_pickle(filename)\n",
    "    return pickles['dataset'], pickles['labels']\n",
    "    \n",
    "train_dataset, train_labels = get_dataset_labels(\"./pickle/train_pickle.pickle\")\n",
    "test_dataset,  test_labels  = get_dataset_labels(\"./pickle/test_pickle.pickle\")\n",
    "print(\"train dataset shape : \", train_dataset.shape)\n",
    "print(\"train_labels.shape : \", train_labels.shape)"
   ]
  },
  {
   "cell_type": "code",
   "execution_count": 4,
   "metadata": {
    "collapsed": true
   },
   "outputs": [],
   "source": [
    "num_digits = 5\n",
    "def get_max_digits(dataset, labels):\n",
    "    keep = [i for i, label in enumerate(labels) if len(label) <= num_digits]\n",
    "    return dataset[keep], labels[keep]\n",
    "\n",
    "train_dataset, train_labels = get_max_digits( train_dataset, train_labels)\n",
    "test_dataset,  test_labels  = get_max_digits( test_dataset, test_labels)"
   ]
  },
  {
   "cell_type": "code",
   "execution_count": 5,
   "metadata": {
    "collapsed": true
   },
   "outputs": [],
   "source": [
    "def show_shape(dataset, labels, data_type):\n",
    "    print( data_type, \" dataset shape : \", dataset.shape)\n",
    "    print( data_type, \" labels shape : \", labels.shape)"
   ]
  },
  {
   "cell_type": "code",
   "execution_count": 6,
   "metadata": {
    "collapsed": false
   },
   "outputs": [
    {
     "name": "stdout",
     "output_type": "stream",
     "text": [
      "valid  dataset shape :  (6680, 64, 64)\n",
      "valid  labels shape :  (6680,)\n",
      "train  dataset shape :  (26721, 64, 64)\n",
      "train  labels shape :  (26721,)\n",
      "test  dataset shape :  (13068, 64, 64)\n",
      "test  labels shape :  (13068,)\n"
     ]
    }
   ],
   "source": [
    "valid_size = int(train_dataset.shape[0] * 0.2)\n",
    "valid_dataset = train_dataset[:valid_size]\n",
    "valid_labels = train_labels[:valid_size]\n",
    "train_dataset = train_dataset[valid_size:]\n",
    "train_labels = train_labels[valid_size:]\n",
    "show_shape( valid_dataset, valid_labels, \"valid\")\n",
    "show_shape( train_dataset, train_labels, \"train\")\n",
    "show_shape( test_dataset, test_labels, \"test\")"
   ]
  },
  {
   "cell_type": "code",
   "execution_count": 7,
   "metadata": {
    "collapsed": false
   },
   "outputs": [],
   "source": [
    "num_labels = 11\n",
    "num_channels = 1\n",
    "\n",
    "def reformat(dataset, labels):\n",
    "    dataset_output = dataset.reshape(list(dataset.shape) + [1]).astype(np.float32)\n",
    "    labels_output = np.array([ np.array([ ( np.arange(num_labels) == l).astype(np.float32)\n",
    "                                        for l in np.append(row, [num_labels - 1] * (num_digits - len(row)), 0)])\n",
    "                             for row in labels])\n",
    "    return dataset_output, labels_output"
   ]
  },
  {
   "cell_type": "code",
   "execution_count": 8,
   "metadata": {
    "collapsed": false
   },
   "outputs": [
    {
     "name": "stdout",
     "output_type": "stream",
     "text": [
      "train  dataset shape :  (26721, 64, 64, 1)\n",
      "train  labels shape :  (26721, 5, 11)\n",
      "valid  dataset shape :  (6680, 64, 64, 1)\n",
      "valid  labels shape :  (6680, 5, 11)\n",
      "test  dataset shape :  (13068, 64, 64, 1)\n",
      "test  labels shape :  (13068, 5, 11)\n"
     ]
    }
   ],
   "source": [
    "train_dataset, train_labels = reformat(train_dataset, train_labels)\n",
    "valid_dataset, valid_labels = reformat( valid_dataset, valid_labels)\n",
    "test_dataset, test_labels   = reformat( test_dataset, test_labels)\n",
    "show_shape( train_dataset, train_labels, \"train\")\n",
    "show_shape( valid_dataset, valid_labels, \"valid\")\n",
    "show_shape( test_dataset, test_labels, \"test\")"
   ]
  },
  {
   "cell_type": "code",
   "execution_count": 9,
   "metadata": {
    "collapsed": false
   },
   "outputs": [
    {
     "name": "stdout",
     "output_type": "stream",
     "text": [
      "Label :  [[ 0.  0.  0.  0.  0.  0.  1.  0.  0.  0.  0.]\n",
      " [ 0.  0.  0.  0.  0.  0.  0.  0.  0.  0.  1.]\n",
      " [ 0.  0.  0.  0.  0.  0.  0.  0.  0.  0.  1.]\n",
      " [ 0.  0.  0.  0.  0.  0.  0.  0.  0.  0.  1.]\n",
      " [ 0.  0.  0.  0.  0.  0.  0.  0.  0.  0.  1.]]\n"
     ]
    },
    {
     "data": {
      "image/png": "[encoded data removed]",
      "text/plain": [
       "<matplotlib.figure.Figure at 0x7f05a78d4b00>"
      ]
     },
     "metadata": {},
     "output_type": "display_data"
    },
    {
     "name": "stdout",
     "output_type": "stream",
     "text": [
      "Label :  [[ 0.  0.  0.  0.  1.  0.  0.  0.  0.  0.  0.]\n",
      " [ 0.  0.  0.  0.  0.  0.  0.  0.  0.  1.  0.]\n",
      " [ 0.  0.  0.  0.  1.  0.  0.  0.  0.  0.  0.]\n",
      " [ 0.  0.  0.  0.  0.  0.  0.  0.  0.  0.  1.]\n",
      " [ 0.  0.  0.  0.  0.  0.  0.  0.  0.  0.  1.]]\n"
     ]
    },
    {
     "data": {
      "image/png": "[encoded data removed]",
      "text/plain": [
       "<matplotlib.figure.Figure at 0x7f05a6ff36d8>"
      ]
     },
     "metadata": {},
     "output_type": "display_data"
    },
    {
     "name": "stdout",
     "output_type": "stream",
     "text": [
      "Label :  [[ 0.  0.  0.  1.  0.  0.  0.  0.  0.  0.  0.]\n",
      " [ 0.  0.  1.  0.  0.  0.  0.  0.  0.  0.  0.]\n",
      " [ 0.  1.  0.  0.  0.  0.  0.  0.  0.  0.  0.]\n",
      " [ 0.  0.  0.  0.  0.  0.  0.  0.  0.  0.  1.]\n",
      " [ 0.  0.  0.  0.  0.  0.  0.  0.  0.  0.  1.]]\n"
     ]
    },
    {
     "data": {
      "image/png": "[encoded data removed]",
      "text/plain": [
       "<matplotlib.figure.Figure at 0x7f05a692d2b0>"
      ]
     },
     "metadata": {},
     "output_type": "display_data"
    }
   ],
   "source": [
    "def show_image(img):\n",
    "    img = img.reshape(img.shape[:2])\n",
    "    plt.imshow(img)\n",
    "    plt.show()\n",
    "\n",
    "def show_images(dataset, labels, all_index):\n",
    "    for index in all_index:\n",
    "        print(\"Label : \", labels[index])\n",
    "        show_image(dataset[index])        \n",
    "rand_index = np.random.randint(0, train_dataset.shape[0], 3)\n",
    "show_images( train_dataset, train_labels, rand_index)"
   ]
  },
  {
   "cell_type": "code",
   "execution_count": 10,
   "metadata": {
    "collapsed": true
   },
   "outputs": [],
   "source": [
    "batch_size = 64\n",
    "img_size = train_dataset.shape[1]"
   ]
  },
  {
   "cell_type": "code",
   "execution_count": 15,
   "metadata": {
    "collapsed": true
   },
   "outputs": [],
   "source": [
    "def weight_variable(shape, name):\n",
    "    return tf.Variable(tf.truncated_normal(shape, stddev=0.1), name=name)\n",
    "\n",
    "def bias_variable(shape, name):\n",
    "    return tf.Variable(tf.constant(0.1, shape=shape), name = name)\n",
    "\n",
    "def conv2d(x, W):\n",
    "    return tf.nn.conv2d(x, W, strides=[1,1,1,1], padding='SAME')\n",
    "\n",
    "def max_pool_2x2(x):\n",
    "    return tf.nn.max_pool(x, ksize=[1,2,2,1], strides=[1,2,2,1], padding='SAME')"
   ]
  },
  {
   "cell_type": "code",
   "execution_count": 18,
   "metadata": {
    "collapsed": false
   },
   "outputs": [],
   "source": [
    "kernel_size = 3\n",
    "num_depth   = 64\n",
    "use_max_pool = True\n",
    "depth_fc = 1024 # fully connection unit count(depth)\n",
    "\n",
    "graph = tf.Graph()\n",
    "with graph.as_default():\n",
    "    tf_train_dataset = tf.placeholder(tf.float32, shape=(batch_size, img_size, img_size, num_channels))\n",
    "    tf_train_labels  = [tf.placeholder(tf.float32, shape=(batch_size, num_labels),\n",
    "                                       name=\"tf_train_labels_%d\" % index)\n",
    "                        for index in range(num_digits)]\n",
    "    \n",
    "    w_conv1 = weight_variable([kernel_size, kernel_size, num_channels, num_depth], \"weight_conv1\")\n",
    "    b_conv1 = bias_variable([num_depth], \"bias_conv1\")\n",
    "    h_conv1 = tf.nn.relu(conv2d(tf_train_dataset, w_conv1) + b_conv1, name=\"relu_layer1\")\n",
    "    \n",
    "    if use_max_pool:\n",
    "        h_conv1 = max_pool_2x2(h_conv1)\n",
    "    \n",
    "    w_conv2 = weight_variable([kernel_size, kernel_size, num_depth, num_depth * 2], \"weight_conv2\")\n",
    "    b_conv2 = bias_variable([num_depth * 2], \"bias_conv2\")\n",
    "    h_conv2 = tf.nn.relu(conv2d(h_conv1, w_conv2) + b_conv2, name=\"relu_layer2\")\n",
    "    \n",
    "    if use_max_pool:\n",
    "        h_conv2 = max_pool_2x2(h_conv2)\n",
    "        img_size_fc = int(img_size / 4 * img_size / 4 * num_depth * 2)\n",
    "    else:\n",
    "        img_size_fc = int(img_size * img_size * num_depth * 2)\n",
    "    w_fc1 = weight_variable([img_size_fc, depth_fc], \"fc1_weight\")\n",
    "    b_fc1 = bias_variable([depth_fc], \"fc1_bias\")\n",
    "    \n",
    "    h_conv2_flat = tf.reshape(h_conv2, [-1, img_size_fc])\n",
    "    h_fc1 = tf.nn.relu(tf.matmul(h_conv2_flat, w_fc1) + b_fc1)\n",
    "        \n",
    "    keep_prob = tf.placeholder(tf.float32)\n",
    "    h_fc1_drop = tf.nn.dropout(h_fc1, keep_prob)\n",
    "    \n",
    "    w_fc2 = weight_variable([depth_fc, num_digits * num_labels], \"fc2_weight\")\n",
    "    b_fc2 = bias_variable([num_digits * num_labels], \"fc2_bias\")"
   ]
  },
  {
   "cell_type": "code",
   "execution_count": 14,
   "metadata": {
    "collapsed": true
   },
   "outputs": [],
   "source": [
    "tf.nn.relu?"
   ]
  }
 ],
 "metadata": {
  "kernelspec": {
   "display_name": "Python 3",
   "language": "python",
   "name": "python3"
  },
  "language_info": {
   "codemirror_mode": {
    "name": "ipython",
    "version": 3
   },
   "file_extension": ".py",
   "mimetype": "text/x-python",
   "name": "python",
   "nbconvert_exporter": "python",
   "pygments_lexer": "ipython3",
   "version": "3.6.0"
  }
 },
 "nbformat": 4,
 "nbformat_minor": 2
}
