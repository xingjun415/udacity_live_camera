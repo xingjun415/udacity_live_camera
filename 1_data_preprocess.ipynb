{
 "cells": [
  {
   "cell_type": "code",
   "execution_count": 1,
   "metadata": {
    "collapsed": true
   },
   "outputs": [],
   "source": [
    "import pandas as pd\n",
    "import json, os, sys, glob\n",
    "import numpy as np\n",
    "import h5py\n",
    "import tensorflow as tf\n",
    "from IPython.display import Image,display\n",
    "import matplotlib.pyplot as plt\n",
    "import tarfile\n",
    "from six.moves.urllib.request import urlretrieve\n",
    "import seaborn as sns\n",
    "%matplotlib inline"
   ]
  },
  {
   "cell_type": "markdown",
   "metadata": {},
   "source": [
    "# 1. Download and decompress dataset"
   ]
  },
  {
   "cell_type": "code",
   "execution_count": 2,
   "metadata": {
    "collapsed": false
   },
   "outputs": [],
   "source": [
    "def may_create_folder(folder):\n",
    "    if not os.path.isdir(folder):\n",
    "        os.mkdir(folder)\n",
    "    print(\"Folder %s present now\" % folder)\n",
    "\n",
    "#may_create_folder(\"./test\")"
   ]
  },
  {
   "cell_type": "code",
   "execution_count": 3,
   "metadata": {
    "collapsed": false
   },
   "outputs": [
    {
     "name": "stdout",
     "output_type": "stream",
     "text": [
      "Folder ./data present now\n",
      "Downloaded and verified file : ./data/test.tar.gz\n",
      "Downloaded and verified file : ./data/train.tar.gz\n"
     ]
    }
   ],
   "source": [
    "download_site = \"http://ufldl.stanford.edu/housenumbers/\"\n",
    "data_root = \"./data\"\n",
    "last_percent_reported = None\n",
    "\n",
    "def download_progress_hook(count, blockSize, totalSize):\n",
    "  \"\"\"A hook to report the progress of a download. This is mostly intended for users with\n",
    "  slow internet connections. Reports every 5% change in download progress.\n",
    "  \"\"\"\n",
    "  global last_percent_reported\n",
    "  percent = int(count * blockSize * 100 / totalSize)\n",
    "\n",
    "  if last_percent_reported != percent:\n",
    "    if percent % 5 == 0:\n",
    "      sys.stdout.write(\"%s%%\" % percent)\n",
    "      sys.stdout.flush()\n",
    "    else:\n",
    "      sys.stdout.write(\".\")\n",
    "      sys.stdout.flush()\n",
    "      \n",
    "    last_percent_reported = percent\n",
    "\n",
    "def may_download(tar_file_name, expected_size, force = False):\n",
    "    dest_filename = os.path.join(data_root, tar_file_name)\n",
    "    if force or not os.path.exists(dest_filename):\n",
    "        print(\"Attempt to download file \" + tar_file_name)\n",
    "        file_name, _ = urlretrieve( download_site + tar_file_name, dest_filename, reporthook=download_progress_hook)\n",
    "        print(\"Download complete!\")\n",
    "    statinfo = os.stat(dest_filename)\n",
    "    if statinfo.st_size == expected_size:\n",
    "        print(\"Downloaded and verified file : \" + dest_filename)\n",
    "    else:\n",
    "        raise Exception(\"Failed to verify file : \" + dest_filename)\n",
    "    return dest_filename\n",
    "    \n",
    "may_create_folder(data_root)\n",
    "test_filename = may_download(\"test.tar.gz\", 276555967)\n",
    "train_filename = may_download(\"train.tar.gz\", 404141560)"
   ]
  },
  {
   "cell_type": "code",
   "execution_count": 4,
   "metadata": {
    "collapsed": false
   },
   "outputs": [
    {
     "name": "stdout",
     "output_type": "stream",
     "text": [
      "./data/train already present --- Skipping extraction of ./data/train.tar.gz\n",
      "./data/test already present --- Skipping extraction of ./data/test.tar.gz\n"
     ]
    }
   ],
   "source": [
    "import os, tarfile\n",
    "\n",
    "def maybe_extract(filename, force = False):\n",
    "    root = os.path.splitext(os.path.splitext(filename)[0])[0]\n",
    "    if os.path.isdir(root) and not force:\n",
    "        print(\"{0} already present --- Skipping extraction of {1}\".format(root, filename))\n",
    "    else:\n",
    "        print(\"Extract data for {0}, this may take a while, please wait ..\".format(filename))\n",
    "        tar = tarfile.open(filename)\n",
    "        tar.extractall()\n",
    "        tar.close()\n",
    "    return  root\n",
    "\n",
    "train_folders = maybe_extract(train_filename)\n",
    "test_folders = maybe_extract(test_filename)\n",
    "        "
   ]
  },
  {
   "cell_type": "markdown",
   "metadata": {},
   "source": [
    "# 2. Transform .mat file to Json file\n",
    "Use the python script taken from http://www.a2ialab.com/lib/exe/fetch.php?media=public:scripts:svhn_dataextract_tojson.py.txt"
   ]
  },
  {
   "cell_type": "code",
   "execution_count": 5,
   "metadata": {
    "collapsed": false
   },
   "outputs": [
    {
     "name": "stdout",
     "output_type": "stream",
     "text": [
      "['./data/train/digitStruct.mat', './data/test/digitStruct.mat']\n"
     ]
    }
   ],
   "source": [
    "digit_struct_files = glob.glob('./data/*/*.mat')\n",
    "print(digit_struct_files)"
   ]
  },
  {
   "cell_type": "code",
   "execution_count": 6,
   "metadata": {
    "collapsed": false
   },
   "outputs": [
    {
     "name": "stdout",
     "output_type": "stream",
     "text": [
      "Folder ./jsons present now\n",
      "Complete !\n"
     ]
    }
   ],
   "source": [
    "jsons_root = './jsons'\n",
    "\n",
    "def transform_mat_to_json():\n",
    "    transform_json_script = \"python svhn_dataextract_tojson.py -f ./data/{0}/digitStruct.mat -o ./jsons/{0}/digitStruct\"\n",
    "    for file_type in ['train', 'test']:\n",
    "        output_folder = os.path.join(jsons_root, file_type)\n",
    "        if not os.path.exists(output_folder):\n",
    "            os.mkdir(output_folder)\n",
    "        if os.path.exists(os.path.join(output_folder, 'digitStruct.json')):\n",
    "            continue\n",
    "        print(\"Begin transform %s files\" % file_type)\n",
    "        os.system(transform_json_script.format(file_type))\n",
    "        print(\"End transform %s files\" % file_type)\n",
    "    print(\"Complete !\")\n",
    "    \n",
    "may_create_folder(jsons_root)\n",
    "transform_mat_to_json()    "
   ]
  },
  {
   "cell_type": "markdown",
   "metadata": {},
   "source": [
    "# 3. Load json files and extract information from json files"
   ]
  },
  {
   "cell_type": "code",
   "execution_count": 7,
   "metadata": {
    "collapsed": false
   },
   "outputs": [
    {
     "name": "stdout",
     "output_type": "stream",
     "text": [
      "Train json info : \n",
      " [{'filename': '1.png', 'bbox_x1': 246, 'bbox_y1': 77, 'boxes': array([{'left': 246, 'top': 77, 'width': 81, 'height': 219},\n",
      "       {'left': 323, 'top': 81, 'width': 96, 'height': 219}], dtype=object), 'bbox_width': 173, 'bbox_height': 223, 'labels': array([1, 9]), 'digit_count': 2}, {'filename': '2.png', 'bbox_x1': 77, 'bbox_y1': 25, 'boxes': array([{'left': 77, 'top': 29, 'width': 23, 'height': 32},\n",
      "       {'left': 98, 'top': 25, 'width': 26, 'height': 32}], dtype=object), 'bbox_width': 47, 'bbox_height': 36, 'labels': array([2, 3]), 'digit_count': 2}, {'filename': '3.png', 'bbox_x1': 17, 'bbox_y1': 5, 'boxes': array([{'left': 17, 'top': 5, 'width': 8, 'height': 15},\n",
      "       {'left': 25, 'top': 5, 'width': 9, 'height': 15}], dtype=object), 'bbox_width': 17, 'bbox_height': 15, 'labels': array([2, 5]), 'digit_count': 2}, {'filename': '4.png', 'bbox_x1': 57, 'bbox_y1': 13, 'boxes': array([{'left': 57, 'top': 13, 'width': 15, 'height': 34},\n",
      "       {'left': 72, 'top': 13, 'width': 13, 'height': 34}], dtype=object), 'bbox_width': 28, 'bbox_height': 34, 'labels': array([9, 3]), 'digit_count': 2}, {'filename': '5.png', 'bbox_x1': 52, 'bbox_y1': 7, 'boxes': array([{'left': 52, 'top': 7, 'width': 21, 'height': 46},\n",
      "       {'left': 74, 'top': 10, 'width': 15, 'height': 46}], dtype=object), 'bbox_width': 37, 'bbox_height': 49, 'labels': array([3, 1]), 'digit_count': 2}]\n",
      "==================================================\n",
      "Test json info : \n",
      " [{'filename': '1.png', 'bbox_x1': 43, 'bbox_y1': 7, 'boxes': array([{'left': 43, 'top': 7, 'width': 19, 'height': 30}], dtype=object), 'bbox_width': 19, 'bbox_height': 30, 'labels': array([5]), 'digit_count': 1}, {'filename': '2.png', 'bbox_x1': 99, 'bbox_y1': 5, 'boxes': array([{'left': 99, 'top': 5, 'width': 14, 'height': 23},\n",
      "       {'left': 114, 'top': 8, 'width': 8, 'height': 23},\n",
      "       {'left': 121, 'top': 6, 'width': 12, 'height': 23}], dtype=object), 'bbox_width': 34, 'bbox_height': 26, 'labels': array([ 2,  1, 10]), 'digit_count': 3}, {'filename': '3.png', 'bbox_x1': 61, 'bbox_y1': 6, 'boxes': array([{'left': 61, 'top': 6, 'width': 11, 'height': 16}], dtype=object), 'bbox_width': 11, 'bbox_height': 16, 'labels': array([6]), 'digit_count': 1}, {'filename': '4.png', 'bbox_x1': 32, 'bbox_y1': 6, 'boxes': array([{'left': 32, 'top': 6, 'width': 14, 'height': 17}], dtype=object), 'bbox_width': 14, 'bbox_height': 17, 'labels': array([1]), 'digit_count': 1}, {'filename': '5.png', 'bbox_x1': 97, 'bbox_y1': 28, 'boxes': array([{'left': 97, 'top': 28, 'width': 19, 'height': 28}], dtype=object), 'bbox_width': 19, 'bbox_height': 28, 'labels': array([9]), 'digit_count': 1}]\n"
     ]
    }
   ],
   "source": [
    "def get_json_information(json_file):\n",
    "    '''\n",
    "    \n",
    "    :param json_file: path of json files\n",
    "    :return: \n",
    "      result format : [{'filename':'*.png', 'bbox_x1': value, 'bbox_y1':value, 'bbox_width':value, 'bbox_height': value,\n",
    "      'boxes':np.array([{'left':value, 'top':value, 'width':value, 'height':value}, ..]), labels:np.array([val1, val2,..])}, ...]\n",
    "      'filename' : name of image file\n",
    "      'bbox_x1' : left coordinate of bounding box\n",
    "      'bbox_y1' : top coordinate of bounding box\n",
    "      'bbox_width : width of bounding box\n",
    "      'bbox_height' : height of bounding box\n",
    "      'boxes' : all box in the image\n",
    "      'boxes'.'left': left coordinate of one box\n",
    "      'boxes'.'top' : top coordinate of one box\n",
    "      'boxes'.'widht' : width of one box\n",
    "      'boxes'.'height' : height of one box\n",
    "    '''\n",
    "    if not os.path.exists(json_file):\n",
    "        raise Exception(\"{0} is not exist\".format(json_file))\n",
    "\n",
    "    with open(json_file, 'r') as file:\n",
    "        json_info = json.load(file)\n",
    "    results = []\n",
    "    for info in json_info:\n",
    "        digit_info = {}\n",
    "        digit_info['filename'] = info['filename']\n",
    "\n",
    "        boxes = info['boxes']\n",
    "        x1 = int(np.min([box['left'] for box in boxes]))\n",
    "        y1 = int(np.min([box['top'] for box in boxes]))\n",
    "        x2 = int(np.max([box['left'] + box['width'] for box in boxes]))\n",
    "        y2 = int(np.max([box['top'] + box['height'] for box in boxes]))\n",
    "\n",
    "        digit_info['bbox_x1'] = x1\n",
    "        digit_info['bbox_y1'] = y1\n",
    "        digit_info['boxes'] = np.array([{ name : int(box[name]) for name in ['left', 'top', 'width', 'height']}  for box in boxes])\n",
    "        digit_info['bbox_width'] = x2 - x1\n",
    "        digit_info['bbox_height'] = y2 - y1\n",
    "        digit_info['labels'] = np.array([int(box['label']) for box in boxes])\n",
    "        digit_info['digit_count'] = len(digit_info['labels'])\n",
    "        results.append(digit_info)\n",
    "    return results\n",
    "\n",
    "train_json_file_path = os.path.join(jsons_root, 'train/digitStruct.json')\n",
    "test_json_file_path = os.path.join(jsons_root, 'test/digitStruct.json')\n",
    "train_json_info = get_json_information(train_json_file_path)\n",
    "test_json_info = get_json_information(test_json_file_path)\n",
    "print(\"Train json info : \\n\", train_json_info[0:5])\n",
    "print(\"=\" * 50)\n",
    "print(\"Test json info : \\n\", test_json_info[0:5])"
   ]
  },
  {
   "cell_type": "markdown",
   "metadata": {},
   "source": [
    "# 4. Analyze data to filter low-quality data\n",
    "## 4.1 Show the distribution of bounding box width and length"
   ]
  },
  {
   "cell_type": "code",
   "execution_count": 8,
   "metadata": {
    "collapsed": false
   },
   "outputs": [
    {
     "name": "stdout",
     "output_type": "stream",
     "text": [
      "Shape of train_pd :  (33402, 8)\n",
      "   bbox_height  bbox_width  bbox_x1  bbox_y1  \\\n",
      "0          223         173      246       77   \n",
      "1           36          47       77       25   \n",
      "2           15          17       17        5   \n",
      "3           34          28       57       13   \n",
      "4           49          37       52        7   \n",
      "\n",
      "                                               boxes  digit_count filename  \\\n",
      "0  [{'left': 246, 'top': 77, 'width': 81, 'height...            2    1.png   \n",
      "1  [{'left': 77, 'top': 29, 'width': 23, 'height'...            2    2.png   \n",
      "2  [{'left': 17, 'top': 5, 'width': 8, 'height': ...            2    3.png   \n",
      "3  [{'left': 57, 'top': 13, 'width': 15, 'height'...            2    4.png   \n",
      "4  [{'left': 52, 'top': 7, 'width': 21, 'height':...            2    5.png   \n",
      "\n",
      "   labels  \n",
      "0  [1, 9]  \n",
      "1  [2, 3]  \n",
      "2  [2, 5]  \n",
      "3  [9, 3]  \n",
      "4  [3, 1]  \n",
      "========================================\n",
      "Shape of test_pd :  (13068, 8)\n",
      "   bbox_height  bbox_width  bbox_x1  bbox_y1  \\\n",
      "0           30          19       43        7   \n",
      "1           26          34       99        5   \n",
      "2           16          11       61        6   \n",
      "3           17          14       32        6   \n",
      "4           28          19       97       28   \n",
      "\n",
      "                                               boxes  digit_count filename  \\\n",
      "0  [{'left': 43, 'top': 7, 'width': 19, 'height':...            1    1.png   \n",
      "1  [{'left': 99, 'top': 5, 'width': 14, 'height':...            3    2.png   \n",
      "2  [{'left': 61, 'top': 6, 'width': 11, 'height':...            1    3.png   \n",
      "3  [{'left': 32, 'top': 6, 'width': 14, 'height':...            1    4.png   \n",
      "4  [{'left': 97, 'top': 28, 'width': 19, 'height'...            1    5.png   \n",
      "\n",
      "       labels  \n",
      "0         [5]  \n",
      "1  [2, 1, 10]  \n",
      "2         [6]  \n",
      "3         [1]  \n",
      "4         [9]  \n"
     ]
    }
   ],
   "source": [
    "train_pd = pd.DataFrame(train_json_info)\n",
    "test_pd = pd.DataFrame(test_json_info)\n",
    "print(\"Shape of train_pd : \", train_pd.shape)\n",
    "print(train_pd.head())\n",
    "print(\"=\" * 40)\n",
    "print(\"Shape of test_pd : \", test_pd.shape)\n",
    "print(test_pd.head())"
   ]
  },
  {
   "cell_type": "code",
   "execution_count": 9,
   "metadata": {
    "collapsed": false
   },
   "outputs": [
    {
     "name": "stdout",
     "output_type": "stream",
     "text": [
      "count    33402.000000\n",
      "mean        37.085923\n",
      "std         21.565733\n",
      "min          9.000000\n",
      "25%         23.000000\n",
      "50%         31.000000\n",
      "75%         45.000000\n",
      "max        423.000000\n",
      "Name: bbox_height, dtype: float64\n",
      "count    33402.000000\n",
      "mean        36.256601\n",
      "std         24.302514\n",
      "min          3.000000\n",
      "25%         20.000000\n",
      "50%         30.000000\n",
      "75%         46.000000\n",
      "max        616.000000\n",
      "Name: bbox_width, dtype: float64\n"
     ]
    },
    {
     "data": {
      "text/plain": [
       "<matplotlib.axes._subplots.AxesSubplot at 0x7fcdf1893668>"
      ]
     },
     "execution_count": 9,
     "metadata": {},
     "output_type": "execute_result"
    },
    {
     "data": {
      "image/png": "[encoded data removed]",
      "text/plain": [
       "<matplotlib.figure.Figure at 0x7fce30171358>"
      ]
     },
     "metadata": {},
     "output_type": "display_data"
    }
   ],
   "source": [
    "bin_size = 5\n",
    "bins = np.arange(0, np.max(train_pd.bbox_height) + 5, bin_size)\n",
    "print(train_pd.bbox_height.describe())\n",
    "print(train_pd.bbox_width.describe())\n",
    "sns.distplot(train_pd.bbox_height, bins=bins)\n",
    "sns.distplot(train_pd.bbox_width, bins=bins)"
   ]
  },
  {
   "cell_type": "code",
   "execution_count": 10,
   "metadata": {
    "collapsed": false
   },
   "outputs": [
    {
     "name": "stdout",
     "output_type": "stream",
     "text": [
      "train digit counts : \n",
      " 2    18130\n",
      "3     8691\n",
      "1     5137\n",
      "4     1434\n",
      "5        9\n",
      "6        1\n",
      "Name: digit_count, dtype: int64\n",
      "test digit counts : \n",
      " 2    8356\n",
      "1    2483\n",
      "3    2081\n",
      "4     146\n",
      "5       2\n",
      "Name: digit_count, dtype: int64\n"
     ]
    }
   ],
   "source": [
    "print(\"train digit counts : \\n\", train_pd.digit_count.value_counts())\n",
    "print(\"test digit counts : \\n\",test_pd.digit_count.value_counts())"
   ]
  },
  {
   "cell_type": "markdown",
   "metadata": {},
   "source": [
    "The distributions between train and test are familiar with both peaking around an image height of 25 pixes. We will drop poor quality images with smaller heights."
   ]
  },
  {
   "cell_type": "code",
   "execution_count": 11,
   "metadata": {
    "collapsed": false
   },
   "outputs": [
    {
     "data": {
      "text/plain": [
       "<matplotlib.axes._subplots.AxesSubplot at 0x7fcdf1798908>"
      ]
     },
     "execution_count": 11,
     "metadata": {},
     "output_type": "execute_result"
    },
    {
     "data": {
      "image/png": "[encoded data removed]",
      "text/plain": [
       "<matplotlib.figure.Figure at 0x7fcdf1893438>"
      ]
     },
     "metadata": {},
     "output_type": "display_data"
    }
   ],
   "source": [
    "valid_train_pd = train_pd.loc[train_pd.bbox_height >= 20, :]\n",
    "sns.distplot(valid_train_pd.bbox_height)\n",
    "valid_train_pd = valid_train_pd.loc[train_pd.bbox_width >= 20, :]\n",
    "sns.distplot(valid_train_pd.bbox_width)"
   ]
  },
  {
   "cell_type": "code",
   "execution_count": 12,
   "metadata": {
    "collapsed": false
   },
   "outputs": [
    {
     "name": "stdout",
     "output_type": "stream",
     "text": [
      "[ {'filename': '1.png', 'bbox_x1': 246, 'bbox_y1': 77, 'boxes': array([{'left': 246, 'top': 77, 'width': 81, 'height': 219},\n",
      "       {'left': 323, 'top': 81, 'width': 96, 'height': 219}], dtype=object), 'bbox_width': 173, 'bbox_height': 223, 'labels': array([1, 9]), 'digit_count': 2}\n",
      " {'filename': '2.png', 'bbox_x1': 77, 'bbox_y1': 25, 'boxes': array([{'left': 77, 'top': 29, 'width': 23, 'height': 32},\n",
      "       {'left': 98, 'top': 25, 'width': 26, 'height': 32}], dtype=object), 'bbox_width': 47, 'bbox_height': 36, 'labels': array([2, 3]), 'digit_count': 2}\n",
      " {'filename': '4.png', 'bbox_x1': 57, 'bbox_y1': 13, 'boxes': array([{'left': 57, 'top': 13, 'width': 15, 'height': 34},\n",
      "       {'left': 72, 'top': 13, 'width': 13, 'height': 34}], dtype=object), 'bbox_width': 28, 'bbox_height': 34, 'labels': array([9, 3]), 'digit_count': 2}\n",
      " ...,\n",
      " {'filename': '33400.png', 'bbox_x1': 36, 'bbox_y1': 3, 'boxes': array([{'left': 36, 'top': 3, 'width': 25, 'height': 45},\n",
      "       {'left': 57, 'top': 3, 'width': 27, 'height': 45}], dtype=object), 'bbox_width': 48, 'bbox_height': 45, 'labels': array([9, 5]), 'digit_count': 2}\n",
      " {'filename': '33401.png', 'bbox_x1': 34, 'bbox_y1': 4, 'boxes': array([{'left': 34, 'top': 6, 'width': 25, 'height': 40},\n",
      "       {'left': 61, 'top': 4, 'width': 25, 'height': 40}], dtype=object), 'bbox_width': 52, 'bbox_height': 42, 'labels': array([2, 2]), 'digit_count': 2}\n",
      " {'filename': '33402.png', 'bbox_x1': 35, 'bbox_y1': 8, 'boxes': array([{'left': 35, 'top': 10, 'width': 7, 'height': 25},\n",
      "       {'left': 44, 'top': 8, 'width': 15, 'height': 25},\n",
      "       {'left': 62, 'top': 9, 'width': 17, 'height': 25}], dtype=object), 'bbox_width': 44, 'bbox_height': 27, 'labels': array([1, 6, 9]), 'digit_count': 3}]\n"
     ]
    }
   ],
   "source": [
    "train_info = np.array(train_json_info)[valid_train_pd.index]\n",
    "print(train_info)"
   ]
  },
  {
   "cell_type": "markdown",
   "metadata": {},
   "source": [
    "The next methods are used to calculate coordinate of image to crop, and coordinate of square output to be filled with image"
   ]
  },
  {
   "cell_type": "code",
   "execution_count": 13,
   "metadata": {
    "collapsed": false
   },
   "outputs": [
    {
     "name": "stdout",
     "output_type": "stream",
     "text": [
      "(267, (229, 55, 350, 300), (30, 0, 151, 245))\n"
     ]
    }
   ],
   "source": [
    "def calculate_crop_coor( digit_center, square_center, digit_length, img_length, extend_ratio):\n",
    "    # image length after entend\n",
    "    digit_length_ext = int(digit_length * extend_ratio)\n",
    "    digit_half_length_ext = digit_length_ext // 2\n",
    "\n",
    "    img_crop_floor_coor = np.max([ 0, digit_center - digit_half_length_ext])\n",
    "    img_crop_ceil_coor = np.min([ img_length, digit_center + digit_half_length_ext])\n",
    "    square_crop_floor_coor = square_center - (digit_center - img_crop_floor_coor)\n",
    "    square_crop_ceil_coor = square_center + (img_crop_ceil_coor - digit_center)\n",
    "    return (img_crop_floor_coor, img_crop_ceil_coor), (square_crop_floor_coor, square_crop_ceil_coor)\n",
    "\n",
    "def get_img_coordinate_in_square(one_img_info, img_width, img_height, extend_ratio):\n",
    "    # x1 coordinate in image\n",
    "    digit_x1 = one_img_info[\"bbox_x1\"]\n",
    "    digit_y1 = one_img_info[\"bbox_y1\"]\n",
    "    digit_width = one_img_info[\"bbox_width\"]\n",
    "    digit_height = one_img_info[\"bbox_height\"]\n",
    "    digit_center_x = digit_x1 + digit_width // 2\n",
    "    digit_center_y = digit_y1 + digit_height // 2\n",
    "    # length of output square area\n",
    "    square_length = int(np.max([digit_width, digit_height]) * extend_ratio)\n",
    "    # x and y coordinate of square area is the same\n",
    "    square_center_coor = square_length // 2\n",
    "    img_x_coor, square_x_coor = calculate_crop_coor( digit_center_x, square_center_coor, digit_width, img_width, extend_ratio)\n",
    "    img_y_coor, square_y_coor = calculate_crop_coor( digit_center_y, square_center_coor, digit_height, img_height, extend_ratio)\n",
    "    return square_length, (img_x_coor[0], img_y_coor[0], img_x_coor[1], img_y_coor[1]), \\\n",
    "           (square_x_coor[0], square_y_coor[0], square_x_coor[1], square_y_coor[1])\n",
    "\n",
    "print(get_img_coordinate_in_square(train_info[0], 350, 300, 1.2))"
   ]
  },
  {
   "cell_type": "markdown",
   "metadata": {},
   "source": [
    "The following method are used to process one image. "
   ]
  },
  {
   "cell_type": "code",
   "execution_count": 14,
   "metadata": {
    "collapsed": false
   },
   "outputs": [
    {
     "data": {
      "image/png": "[encoded data removed]",
      "text/plain": [
       "<matplotlib.figure.Figure at 0x7fcdf1d65908>"
      ]
     },
     "metadata": {},
     "output_type": "display_data"
    },
    {
     "name": "stdout",
     "output_type": "stream",
     "text": [
      "(64, 64)\n",
      "(2,)\n"
     ]
    }
   ],
   "source": [
    "#def preprocess_one_image( one_img_info, img_dir ):\n",
    "#   from scipy import ndImage\n",
    "    \n",
    "from scipy import ndimage\n",
    "from PIL import Image\n",
    "\n",
    "# extend ratio:\n",
    "extend_ratio = 1.2\n",
    "# destination square image height:\n",
    "dest_img_height = 64\n",
    "\n",
    "def process_one_image( one_img_info, img_dir, show = False):\n",
    "    img_path = os.path.join( img_dir, one_img_info['filename'])\n",
    "    #print(\"Process image : \", img_path)\n",
    "    if not os.path.isfile(img_path):\n",
    "        raise Exception( img_path, \" is not exist\")\n",
    "    from scipy import ndimage\n",
    "    img_data = ndimage.imread(img_path, flatten=True).astype(np.float)\n",
    "    img_height, img_width = img_data.shape[0], img_data.shape[1]\n",
    "    square_length, img_crop_coor, square_fill_coor = get_img_coordinate_in_square(one_img_info, img_width, img_height, extend_ratio)\n",
    "    square_output = np.ones([square_length, square_length]) * np.mean(img_data)\n",
    "\n",
    "    # copy image to square area\n",
    "    #print(\"img_crop_coor : \", img_crop_coor)\n",
    "    #print(\"square_fill_coor : \", square_fill_coor)\n",
    "\n",
    "    square_output[square_fill_coor[1]: square_fill_coor[3], square_fill_coor[0] : square_fill_coor[2]] = \\\n",
    "        img_data[img_crop_coor[1]:img_crop_coor[3], img_crop_coor[0]:img_crop_coor[2]]\n",
    "    if show:\n",
    "        plt.subplot(2,2,1)\n",
    "        plt.imshow(img_data)\n",
    "        plt.subplot(2,2,2)\n",
    "        plt.imshow(square_output)\n",
    "    zoom_factor = 1.0 * dest_img_height / square_length\n",
    "    img_zoomed = ndimage.interpolation.zoom(square_output, zoom_factor)\n",
    "    img_return = img_zoomed.astype(np.float32) - np.min(square_output)\n",
    "    img_return = img_return / np.max(img_return) - 0.5\n",
    "    if show:\n",
    "        plt.subplot(2,2,3)\n",
    "        plt.imshow(img_return)\n",
    "        plt.show()\n",
    "\n",
    "    return img_return, one_img_info['labels']\n",
    "\n",
    "img_return, img_label = process_one_image(train_info[0], './data/train', True)\n",
    "print(img_return.shape)\n",
    "print(img_label.shape)"
   ]
  },
  {
   "cell_type": "code",
   "execution_count": 15,
   "metadata": {
    "collapsed": false
   },
   "outputs": [
    {
     "name": "stdout",
     "output_type": "stream",
     "text": [
      "Processing images\n"
     ]
    },
    {
     "name": "stderr",
     "output_type": "stream",
     "text": [
      "/home/xinjun/anaconda3/lib/python3.6/site-packages/scipy/ndimage/interpolation.py:600: UserWarning: From scipy 0.13.0, the output shape of zoom() is calculated with round() instead of int() - for these inputs the size of the returned array has changed.\n",
      "  \"the returned array has changed.\", UserWarning)\n",
      "/home/xinjun/anaconda3/lib/python3.6/site-packages/scipy/ndimage/interpolation.py:600: UserWarning: From scipy 0.13.0, the output shape of zoom() is calculated with round() instead of int() - for these inputs the size of the returned array has changed.\n",
      "  \"the returned array has changed.\", UserWarning)\n",
      "/home/xinjun/anaconda3/lib/python3.6/site-packages/scipy/ndimage/interpolation.py:600: UserWarning: From scipy 0.13.0, the output shape of zoom() is calculated with round() instead of int() - for these inputs the size of the returned array has changed.\n",
      "  \"the returned array has changed.\", UserWarning)\n",
      "/home/xinjun/anaconda3/lib/python3.6/site-packages/scipy/ndimage/interpolation.py:600: UserWarning: From scipy 0.13.0, the output shape of zoom() is calculated with round() instead of int() - for these inputs the size of the returned array has changed.\n",
      "  \"the returned array has changed.\", UserWarning)\n"
     ]
    },
    {
     "name": "stdout",
     "output_type": "stream",
     "text": [
      "img_list :  (33402, 64, 64)\n",
      "label_list :  (33402,)\n"
     ]
    }
   ],
   "source": [
    "from multiprocessing import Pool\n",
    "from functools import partial\n",
    "\n",
    "def process_images(img_list, img_path):\n",
    "    pool = Pool()\n",
    "    results = pool.map(partial(process_one_image, **{'img_dir':img_path}), img_list)\n",
    "    pool.close()\n",
    "    pool.join()\n",
    "    imgs, labels = zip(*results)\n",
    "    return np.array(imgs), np.array(labels)\n",
    "\n",
    "print(\"Processing images\")\n",
    "np.random.shuffle(train_json_info)\n",
    "img_list, label_list = process_images(train_json_info, \"./data/train\")\n",
    "print(\"img_list : \", img_list.shape)\n",
    "print(\"label_list : \", label_list.shape)"
   ]
  },
  {
   "cell_type": "code",
   "execution_count": 37,
   "metadata": {
    "collapsed": false
   },
   "outputs": [
    {
     "name": "stderr",
     "output_type": "stream",
     "text": [
      "/home/xinjun/anaconda3/lib/python3.6/site-packages/scipy/ndimage/interpolation.py:600: UserWarning: From scipy 0.13.0, the output shape of zoom() is calculated with round() instead of int() - for these inputs the size of the returned array has changed.\n",
      "  \"the returned array has changed.\", UserWarning)\n",
      "/home/xinjun/anaconda3/lib/python3.6/site-packages/scipy/ndimage/interpolation.py:600: UserWarning: From scipy 0.13.0, the output shape of zoom() is calculated with round() instead of int() - for these inputs the size of the returned array has changed.\n",
      "  \"the returned array has changed.\", UserWarning)\n",
      "/home/xinjun/anaconda3/lib/python3.6/site-packages/scipy/ndimage/interpolation.py:600: UserWarning: From scipy 0.13.0, the output shape of zoom() is calculated with round() instead of int() - for these inputs the size of the returned array has changed.\n",
      "  \"the returned array has changed.\", UserWarning)\n",
      "/home/xinjun/anaconda3/lib/python3.6/site-packages/scipy/ndimage/interpolation.py:600: UserWarning: From scipy 0.13.0, the output shape of zoom() is calculated with round() instead of int() - for these inputs the size of the returned array has changed.\n",
      "  \"the returned array has changed.\", UserWarning)\n"
     ]
    },
    {
     "name": "stdout",
     "output_type": "stream",
     "text": [
      "test_img_list :  [[[  6.42660856e-02   6.42660856e-02   6.42660856e-02 ...,   6.42660856e-02\n",
      "     6.42660856e-02   6.42660856e-02]\n",
      "  [  6.42674565e-02   6.42674565e-02   6.42673969e-02 ...,   6.42640591e-02\n",
      "     6.42639399e-02   6.42638803e-02]\n",
      "  [  6.42561913e-02   6.42561316e-02   6.42566681e-02 ...,   6.42820001e-02\n",
      "     6.42827749e-02   6.42830133e-02]\n",
      "  ..., \n",
      "  [  6.42575622e-02   6.42570853e-02   6.42576218e-02 ...,   6.42793775e-02\n",
      "     6.42793179e-02   6.42792583e-02]\n",
      "  [  6.42672181e-02   6.42673373e-02   6.42672181e-02 ...,   6.42643571e-02\n",
      "     6.42644167e-02   6.42644167e-02]\n",
      "  [  6.42660856e-02   6.42660856e-02   6.42660856e-02 ...,   6.42660856e-02\n",
      "     6.42660856e-02   6.42660856e-02]]\n",
      "\n",
      " [[  4.22648966e-01   4.33494925e-01   4.50916648e-01 ...,   1.09297395e-01\n",
      "     1.06597602e-01   1.09126151e-01]\n",
      "  [  4.28333402e-01   4.38753605e-01   4.53668833e-01 ...,   2.03213453e-01\n",
      "     1.43935084e-01   1.09126151e-01]\n",
      "  [  4.38535035e-01   4.47361767e-01   4.57354009e-01 ...,   3.62404406e-01\n",
      "     2.07245111e-01   1.09126151e-01]\n",
      "  ..., \n",
      "  [  1.79996133e-01   1.97948813e-01   2.22714961e-01 ...,   2.25120664e-01\n",
      "     1.55342996e-01   1.09126151e-01]\n",
      "  [  1.28980756e-01   1.35790288e-01   1.45598888e-01 ...,   1.53235614e-01\n",
      "     1.26657784e-01   1.09126151e-01]\n",
      "  [  1.09126151e-01   1.09126151e-01   1.09126151e-01 ...,   1.09126151e-01\n",
      "     1.09126151e-01   1.09126151e-01]]\n",
      "\n",
      " [[  3.49532247e-01   3.49532247e-01   3.49532247e-01 ...,   3.49532247e-01\n",
      "     3.49532247e-01   3.49532247e-01]\n",
      "  [  3.49532247e-01   3.49532247e-01   3.49532247e-01 ...,   3.49532247e-01\n",
      "     3.49532247e-01   3.49532247e-01]\n",
      "  [  3.49532247e-01   3.49532247e-01   3.49532247e-01 ...,   3.49532247e-01\n",
      "     3.49532247e-01   3.49532247e-01]\n",
      "  ..., \n",
      "  [  3.49532247e-01   3.49532247e-01   3.49532247e-01 ...,   3.49532247e-01\n",
      "     3.49532247e-01   3.49532247e-01]\n",
      "  [  3.49532247e-01   3.49532247e-01   3.49532247e-01 ...,   3.49532247e-01\n",
      "     3.49532247e-01   3.49532247e-01]\n",
      "  [  3.49532247e-01   3.49532247e-01   3.49532247e-01 ...,   3.49532247e-01\n",
      "     3.49532247e-01   3.49532247e-01]]\n",
      "\n",
      " ..., \n",
      " [[  3.12939703e-01   3.13065767e-01   3.13065767e-01 ...,   3.12969029e-01\n",
      "     3.12969029e-01   3.12939703e-01]\n",
      "  [  3.12939703e-01   3.13069761e-01   3.13069761e-01 ...,   3.12967122e-01\n",
      "     3.12967122e-01   3.12939703e-01]\n",
      "  [  3.12939703e-01   3.13065529e-01   3.13065529e-01 ...,   3.12961698e-01\n",
      "     3.12961698e-01   3.12939703e-01]\n",
      "  ..., \n",
      "  [  3.12939703e-01   3.12973320e-01   3.12973320e-01 ...,   3.13046217e-01\n",
      "     3.13046217e-01   3.12939703e-01]\n",
      "  [  3.12939703e-01   3.12987566e-01   3.12987566e-01 ...,   3.13036084e-01\n",
      "     3.13036084e-01   3.12939703e-01]\n",
      "  [  3.12939703e-01   3.12993109e-01   3.12993109e-01 ...,   3.13031554e-01\n",
      "     3.13031554e-01   3.12939703e-01]]\n",
      "\n",
      " [[ -3.58584225e-01  -3.58584225e-01  -3.58584225e-01 ...,  -3.58584225e-01\n",
      "    -3.58584225e-01  -3.58584225e-01]\n",
      "  [ -3.05566609e-01  -3.00422072e-01  -2.90938735e-01 ...,  -3.80292237e-01\n",
      "    -3.82671267e-01  -3.83128881e-01]\n",
      "  [ -2.35424638e-01  -2.21482724e-01  -1.95865631e-01 ...,  -4.16116118e-01\n",
      "    -4.22246337e-01  -4.23437506e-01]\n",
      "  ..., \n",
      "  [ -4.28913444e-01  -4.34503943e-01  -4.43350643e-01 ...,  -4.18746233e-01\n",
      "    -4.18886602e-01  -4.19553518e-01]\n",
      "  [ -3.85297269e-01  -3.87532592e-01  -3.91006112e-01 ...,  -3.80204141e-01\n",
      "    -3.80906790e-01  -3.81606847e-01]\n",
      "  [ -3.58584225e-01  -3.58584225e-01  -3.58584225e-01 ...,  -3.58584225e-01\n",
      "    -3.58584225e-01  -3.58584225e-01]]\n",
      "\n",
      " [[ -8.72012973e-03  -8.72012973e-03  -8.72012973e-03 ...,  -8.72012973e-03\n",
      "    -8.72012973e-03  -8.72012973e-03]\n",
      "  [ -1.95932388e-03  -1.40136480e-03  -2.44051218e-04 ...,  -2.60933340e-02\n",
      "    -2.57818997e-02  -2.56121159e-02]\n",
      "  [  5.31435013e-04   1.29508972e-03   2.87866592e-03 ...,  -3.24940085e-02\n",
      "    -3.20678353e-02  -3.18354666e-02]\n",
      "  ..., \n",
      "  [ -3.85954082e-02  -3.69761288e-02  -3.38479877e-02 ...,  -3.17959785e-02\n",
      "    -3.10861170e-02  -3.07057798e-02]\n",
      "  [ -3.05520892e-02  -2.93687284e-02  -2.70827711e-02 ...,  -2.55832076e-02\n",
      "    -2.50645280e-02  -2.47865617e-02]\n",
      "  [ -8.72012973e-03  -8.72012973e-03  -8.72012973e-03 ...,  -8.72012973e-03\n",
      "    -8.72012973e-03  -8.72012973e-03]]]\n",
      "test_label_list :  [array([5, 1]) array([3, 8]) array([2, 8, 8]) ..., array([8]) array([1, 6])\n",
      " array([2, 4])]\n"
     ]
    }
   ],
   "source": [
    "np.random.shuffle(test_json_info)\n",
    "test_img_list, test_label_list = process_images(test_json_info, \"./data/test\")\n",
    "print(\"test_img_list : \", test_img_list.shape)\n",
    "print(\"test_label_list : \", test_label_list.shape)"
   ]
  },
  {
   "cell_type": "code",
   "execution_count": 35,
   "metadata": {
    "collapsed": false
   },
   "outputs": [
    {
     "name": "stdout",
     "output_type": "stream",
     "text": [
      "[7 6]\n"
     ]
    },
    {
     "data": {
      "image/png": "[encoded data removed]",
      "text/plain": [
       "<matplotlib.figure.Figure at 0x7fcdf0e4a5c0>"
      ]
     },
     "metadata": {},
     "output_type": "display_data"
    },
    {
     "name": "stdout",
     "output_type": "stream",
     "text": [
      "[5 4 4]\n"
     ]
    },
    {
     "data": {
      "image/png": "[encoded data removed]",
      "text/plain": [
       "<matplotlib.figure.Figure at 0x7fcdf12d7470>"
      ]
     },
     "metadata": {},
     "output_type": "display_data"
    },
    {
     "name": "stdout",
     "output_type": "stream",
     "text": [
      "[4 3 3]\n"
     ]
    },
    {
     "data": {
      "image/png": "[encoded data removed]",
      "text/plain": [
       "<matplotlib.figure.Figure at 0x7fcdeedeaeb8>"
      ]
     },
     "metadata": {},
     "output_type": "display_data"
    },
    {
     "name": "stdout",
     "output_type": "stream",
     "text": [
      "[5 9]\n"
     ]
    },
    {
     "data": {
      "image/png": "[encoded data removed]",
      "text/plain": [
       "<matplotlib.figure.Figure at 0x7fcdf02f12b0>"
      ]
     },
     "metadata": {},
     "output_type": "display_data"
    },
    {
     "name": "stdout",
     "output_type": "stream",
     "text": [
      "[1 2 3]\n"
     ]
    },
    {
     "data": {
      "image/png": "[encoded data removed]",
      "text/plain": [
       "<matplotlib.figure.Figure at 0x7fcdeeb244e0>"
      ]
     },
     "metadata": {},
     "output_type": "display_data"
    }
   ],
   "source": [
    "for index, value in enumerate(np.random.randint(0, img_list.shape[0], 5)):\n",
    "    print(label_list[value])\n",
    "    plt.imshow( img_list[value], cmap=plt.get_cmap('winter'))\n",
    "    plt.show()"
   ]
  },
  {
   "cell_type": "code",
   "execution_count": 38,
   "metadata": {
    "collapsed": true
   },
   "outputs": [],
   "source": [
    "import pickle"
   ]
  },
  {
   "cell_type": "code",
   "execution_count": 39,
   "metadata": {
    "collapsed": true
   },
   "outputs": [],
   "source": [
    "train_pickle_file = \"train_pickle.pickle\"\n",
    "train_pickle = {\"dataset\" : img_list, \"labels\" : label_list}\n",
    "with open(train_pickle_file, \"wb\") as train_file:\n",
    "    pickle.dump( train_pickle, train_file, pickle.HIGHEST_PROTOCOL)\n",
    "    "
   ]
  },
  {
   "cell_type": "code",
   "execution_count": null,
   "metadata": {
    "collapsed": true
   },
   "outputs": [],
   "source": [
    "test_pickle_file = \"test_pickle.pickle\"\n",
    "test_pickle = {\"dataset\" : test_img_list, \"labels\" : test_label_list}\n",
    "with open(test_pickle_file, \"wb\") as train_file:\n",
    "    pickle.dump( train_pickle, train_file, pickle.HIGHEST_PROTOCOL)"
   ]
  },
  {
   "cell_type": "markdown",
   "metadata": {},
   "source": [
    "## 4.2 Preprocess Images"
   ]
  },
  {
   "cell_type": "code",
   "execution_count": null,
   "metadata": {
    "collapsed": true
   },
   "outputs": [],
   "source": []
  }
 ],
 "metadata": {
  "kernelspec": {
   "display_name": "Python 3",
   "language": "python",
   "name": "python3"
  },
  "language_info": {
   "codemirror_mode": {
    "name": "ipython",
    "version": 3
   },
   "file_extension": ".py",
   "mimetype": "text/x-python",
   "name": "python",
   "nbconvert_exporter": "python",
   "pygments_lexer": "ipython3",
   "version": "3.6.0"
  }
 },
 "nbformat": 4,
 "nbformat_minor": 2
}
