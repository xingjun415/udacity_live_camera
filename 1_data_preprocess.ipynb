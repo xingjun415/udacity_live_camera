{
 "cells": [
  {
   "cell_type": "code",
   "execution_count": 1,
   "metadata": {
    "collapsed": true
   },
   "outputs": [],
   "source": [
    "import pandas as pd\n",
    "import json, os, sys, glob\n",
    "import numpy as np\n",
    "import h5py\n",
    "import tensorflow as tf\n",
    "from IPython.display import Image,display\n",
    "import matplotlib.pyplot as plt\n",
    "import tarfile\n",
    "from six.moves.urllib.request import urlretrieve"
   ]
  },
  {
   "cell_type": "markdown",
   "metadata": {},
   "source": [
    "# 1. Download and decompress dataset"
   ]
  },
  {
   "cell_type": "code",
   "execution_count": 2,
   "metadata": {
    "collapsed": false
   },
   "outputs": [],
   "source": [
    "def may_create_folder(folder):\n",
    "    if not os.path.isdir(folder):\n",
    "        os.mkdir(folder)\n",
    "    print(\"Folder %s present now\" % folder)\n",
    "\n",
    "#may_create_folder(\"./test\")"
   ]
  },
  {
   "cell_type": "code",
   "execution_count": 3,
   "metadata": {
    "collapsed": false
   },
   "outputs": [
    {
     "name": "stdout",
     "output_type": "stream",
     "text": [
      "Folder ./data present now\n",
      "Downloaded and verified file : ./data/test.tar.gz\n",
      "Downloaded and verified file : ./data/train.tar.gz\n"
     ]
    }
   ],
   "source": [
    "download_site = \"http://ufldl.stanford.edu/housenumbers/\"\n",
    "data_root = \"./data\"\n",
    "last_percent_reported = None\n",
    "\n",
    "def download_progress_hook(count, blockSize, totalSize):\n",
    "  \"\"\"A hook to report the progress of a download. This is mostly intended for users with\n",
    "  slow internet connections. Reports every 5% change in download progress.\n",
    "  \"\"\"\n",
    "  global last_percent_reported\n",
    "  percent = int(count * blockSize * 100 / totalSize)\n",
    "\n",
    "  if last_percent_reported != percent:\n",
    "    if percent % 5 == 0:\n",
    "      sys.stdout.write(\"%s%%\" % percent)\n",
    "      sys.stdout.flush()\n",
    "    else:\n",
    "      sys.stdout.write(\".\")\n",
    "      sys.stdout.flush()\n",
    "      \n",
    "    last_percent_reported = percent\n",
    "\n",
    "def may_download(tar_file_name, expected_size, force = False):\n",
    "    dest_filename = os.path.join(data_root, tar_file_name)\n",
    "    if force or not os.path.exists(dest_filename):\n",
    "        print(\"Attempt to download file \" + tar_file_name)\n",
    "        file_name, _ = urlretrieve( download_site + tar_file_name, dest_filename, reporthook=download_progress_hook)\n",
    "        print(\"Download complete!\")\n",
    "    statinfo = os.stat(dest_filename)\n",
    "    if statinfo.st_size == expected_size:\n",
    "        print(\"Downloaded and verified file : \" + dest_filename)\n",
    "    else:\n",
    "        raise Exception(\"Failed to verify file : \" + dest_filename)\n",
    "    return dest_filename\n",
    "    \n",
    "may_create_folder(data_root)\n",
    "test_filename = may_download(\"test.tar.gz\", 276555967)\n",
    "train_filename = may_download(\"train.tar.gz\", 404141560)"
   ]
  },
  {
   "cell_type": "code",
   "execution_count": 4,
   "metadata": {
    "collapsed": false
   },
   "outputs": [
    {
     "name": "stdout",
     "output_type": "stream",
     "text": [
      "./data/train already present --- Skipping extraction of ./data/train.tar.gz\n",
      "./data/test already present --- Skipping extraction of ./data/test.tar.gz\n"
     ]
    }
   ],
   "source": [
    "import os, tarfile\n",
    "\n",
    "def maybe_extract(filename, force = False):\n",
    "    root = os.path.splitext(os.path.splitext(filename)[0])[0]\n",
    "    if os.path.isdir(root) and not force:\n",
    "        print(\"{0} already present --- Skipping extraction of {1}\".format(root, filename))\n",
    "    else:\n",
    "        print(\"Extract data for {0}, this may take a while, please wait ..\".format(filename))\n",
    "        tar = tarfile.open(filename)\n",
    "        tar.extractall()\n",
    "        tar.close()\n",
    "    return  root\n",
    "\n",
    "train_folders = maybe_extract(train_filename)\n",
    "test_folders = maybe_extract(test_filename)\n",
    "        "
   ]
  },
  {
   "cell_type": "markdown",
   "metadata": {},
   "source": [
    "# 2. Transform .mat file to Json file\n",
    "Use the python script taken from http://www.a2ialab.com/lib/exe/fetch.php?media=public:scripts:svhn_dataextract_tojson.py.txt"
   ]
  },
  {
   "cell_type": "code",
   "execution_count": 5,
   "metadata": {
    "collapsed": false
   },
   "outputs": [
    {
     "name": "stdout",
     "output_type": "stream",
     "text": [
      "['./data/train/digitStruct.mat', './data/test/digitStruct.mat']\n"
     ]
    }
   ],
   "source": [
    "digit_struct_files = glob.glob('./data/*/*.mat')\n",
    "print(digit_struct_files)"
   ]
  },
  {
   "cell_type": "code",
   "execution_count": 7,
   "metadata": {
    "collapsed": false
   },
   "outputs": [
    {
     "name": "stdout",
     "output_type": "stream",
     "text": [
      "Folder ./jsons present now\n",
      "Complete !\n"
     ]
    }
   ],
   "source": [
    "jsons_root = './jsons'\n",
    "\n",
    "def transform_mat_to_json():\n",
    "    transform_json_script = \"python svhn_dataextract_tojson.py -f ./data/{0}/digitStruct.mat -o ./jsons/{0}/digitStruct\"\n",
    "    for file_type in ['train', 'test']:\n",
    "        output_folder = os.path.join(jsons_root, file_type)\n",
    "        if not os.path.exists(output_folder):\n",
    "            os.mkdir(output_folder)\n",
    "        if os.path.exists(os.path.join(output_folder, 'digitStruct.json')):\n",
    "            continue\n",
    "        print(\"Begin transform %s files\" % file_type)\n",
    "        os.system(transform_json_script.format(file_type))\n",
    "        print(\"End transform %s files\" % file_type)\n",
    "    print(\"Complete !\")\n",
    "    \n",
    "may_create_folder(jsons_root)\n",
    "transform_mat_to_json()    "
   ]
  },
  {
   "cell_type": "code",
   "execution_count": 10,
   "metadata": {
    "collapsed": false
   },
   "outputs": [
    {
     "name": "stdout",
     "output_type": "stream",
     "text": [
      "train_image_list :  ['1.png', '2.png', '3.png', '4.png', '5.png']\n",
      "train_bounding_box_list :  [(246.0, 77.0, 173.0, 223.0), (77.0, 29.0, 47.0, 28.0), (17.0, 5.0, 17.0, 15.0), (57.0, 13.0, 28.0, 34.0), (52.0, 7.0, 37.0, 49.0)]\n",
      "train_labels_list :  [[1, 9], [2, 3], [2, 5], [9, 3], [3, 1]]\n",
      "test_image_list :  ['1.png', '2.png', '3.png', '4.png', '5.png']\n",
      "test_bounding_box_list :  [(43.0, 7.0, 19.0, 30.0), (99.0, 5.0, 34.0, 24.0), (61.0, 6.0, 11.0, 16.0), (32.0, 6.0, 14.0, 17.0), (97.0, 28.0, 19.0, 28.0)]\n",
      "test_labels_list :  [[5], [2, 1, 10], [6], [1], [9]]\n"
     ]
    }
   ],
   "source": [
    "import json, os\n",
    "\n",
    "def get_json_information(json_file):\n",
    "    '''\n",
    "    Extract information from json files\n",
    "    :param json_file:  path of json file\n",
    "    :return:(image_list, bounding_box_list, labels_list)\n",
    "      image_list : [image1, image2, ...]\n",
    "      bouding_box_list : [[x1, y1, width, height], ...]\n",
    "      labels_list\n",
    "    '''\n",
    "    if not os.path.exists(json_file):\n",
    "        raise Exception(\"{0} is not exist\".format(json_file))\n",
    "    with open(json_file, 'r') as file:\n",
    "        json_info = json.load(file)\n",
    "    image_list = []\n",
    "    bounding_box_list = []\n",
    "    labels_list = []\n",
    "    for info in json_info:\n",
    "        image_list.append(info['filename'])\n",
    "        boxes = info['boxes']\n",
    "\n",
    "        x1 = boxes[0]['left']\n",
    "        x2 = boxes[-1]['left'] + boxes[-1]['width']\n",
    "        y1 = boxes[0]['top']\n",
    "        y2 = boxes[-1]['top'] + boxes[-1]['height']\n",
    "        bounding_box_list.append((x1, y1, x2 - x1, y2 - y1))\n",
    "        labels_list.append([int(box['label']) for box in boxes])\n",
    "    return image_list, bounding_box_list, labels_list\n",
    "\n",
    "jsons_root = './jsons'\n",
    "\n",
    "train_json_file = os.path.join(jsons_root, 'train/digitStruct.json')\n",
    "test_json_file = os.path.join(jsons_root, 'test/digitStruct.json')\n",
    "train_image_list, train_bounding_box_list, train_labels_list = get_json_information(train_json_file)\n",
    "test_image_list, test_bounding_box_list, test_labels_list = get_json_information(test_json_file)\n",
    "print(\"train_image_list : \", train_image_list[0:5])\n",
    "print(\"train_bounding_box_list : \", train_bounding_box_list[0:5])\n",
    "print(\"train_labels_list : \", train_labels_list[0:5])\n",
    "print(\"test_image_list : \", test_image_list[0:5])\n",
    "print(\"test_bounding_box_list : \", test_bounding_box_list[0:5])\n",
    "print(\"test_labels_list : \", test_labels_list[0:5])"
   ]
  },
  {
   "cell_type": "code",
   "execution_count": null,
   "metadata": {
    "collapsed": true
   },
   "outputs": [],
   "source": [
    "from IPython.draw "
   ]
  },
  {
   "cell_type": "markdown",
   "metadata": {},
   "source": [
    "## Load and analyze data first\n",
    "1. Load mat data and transform to json"
   ]
  },
  {
   "cell_type": "code",
   "execution_count": null,
   "metadata": {
    "collapsed": false
   },
   "outputs": [],
   "source": [
    "digit_struct_file = digit_struct_files[0]\n",
    "#digit = sio.loadmat(digit_struct_file)\n",
    "# use scipy.io at first, but \"NotImplementedError: Please use HDF reader for matlab v7.3 files\" happens,\n",
    "# after google, use h5py instead\n",
    "print(digit_struct_file)\n",
    "mat_file = h5py.File(digit_struct_file, 'r')\n",
    "mat_file"
   ]
  },
  {
   "cell_type": "code",
   "execution_count": null,
   "metadata": {
    "collapsed": false
   },
   "outputs": [],
   "source": [
    "print(len(mat_file))\n",
    "for mat in mat_file:\n",
    "    print(mat)"
   ]
  },
  {
   "cell_type": "code",
   "execution_count": null,
   "metadata": {
    "collapsed": false
   },
   "outputs": [],
   "source": [
    "digitStructName = mat_file['digitStruct']['name']\n",
    "digitStructBbox = mat_file['digitStruct']['bbox']"
   ]
  },
  {
   "cell_type": "code",
   "execution_count": null,
   "metadata": {
    "collapsed": false
   },
   "outputs": [],
   "source": [
    "print(''.join([chr(c) for c in mat_file[digitStructName[0][0]].value]))"
   ]
  },
  {
   "cell_type": "code",
   "execution_count": null,
   "metadata": {
    "collapsed": true
   },
   "outputs": [],
   "source": [
    "print('')"
   ]
  }
 ],
 "metadata": {
  "kernelspec": {
   "display_name": "Python 3",
   "language": "python",
   "name": "python3"
  },
  "language_info": {
   "codemirror_mode": {
    "name": "ipython",
    "version": 3
   },
   "file_extension": ".py",
   "mimetype": "text/x-python",
   "name": "python",
   "nbconvert_exporter": "python",
   "pygments_lexer": "ipython3",
   "version": "3.6.0"
  }
 },
 "nbformat": 4,
 "nbformat_minor": 2
}
